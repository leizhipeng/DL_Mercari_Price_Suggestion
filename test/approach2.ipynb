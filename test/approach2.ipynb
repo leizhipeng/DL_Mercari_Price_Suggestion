{
 "cells": [
  {
   "cell_type": "markdown",
   "metadata": {},
   "source": [
    "This approach uses an advanced text mining method, word-embedding."
   ]
  },
  {
   "cell_type": "code",
   "execution_count": 1,
   "metadata": {},
   "outputs": [],
   "source": [
    "import numpy as np\n",
    "import pandas as pd\n",
    "import math\n",
    "import matplotlib.pyplot as plt\n",
    "%matplotlib inline "
   ]
  },
  {
   "cell_type": "markdown",
   "metadata": {},
   "source": [
    "Root Mean Squared Logarithmic Error (RMSLE) as the evaluation metrics"
   ]
  },
  {
   "cell_type": "code",
   "execution_count": 2,
   "metadata": {},
   "outputs": [],
   "source": [
    "def rmsle(y, y_pred):\n",
    "    \"\"\"\n",
    "    A function to calculate Root Mean Squared Logarithmic Error (RMSLE)\n",
    "    \"\"\"\n",
    "    assert len(y) == len(y_pred)\n",
    "    to_sum = [(math.log(y_pred[i] + 1) - math.log(y[i] + 1)) ** 2.0 for i,pred in enumerate(y_pred)]\n",
    "    return (sum(to_sum) * (1.0/len(y))) ** 0.5\n",
    "#Source: https://www.kaggle.com/marknagelberg/rmsle-function"
   ]
  },
  {
   "cell_type": "markdown",
   "metadata": {},
   "source": [
    "Load the dataset"
   ]
  },
  {
   "cell_type": "code",
   "execution_count": 3,
   "metadata": {},
   "outputs": [
    {
     "name": "stdout",
     "output_type": "stream",
     "text": [
      "(100001, 8)\n"
     ]
    }
   ],
   "source": [
    "data = pd.read_table(\"train.tsv\")\n",
    "print(data.shape)"
   ]
  },
  {
   "cell_type": "markdown",
   "metadata": {},
   "source": [
    "## Data Preprocessing\n",
    "- Log-transfer and normalize price"
   ]
  },
  {
   "cell_type": "code",
   "execution_count": 4,
   "metadata": {},
   "outputs": [
    {
     "data": {
      "text/plain": [
       "Text(0.5,0,'Target (Log-transformed and normalized Price)')"
      ]
     },
     "execution_count": 4,
     "metadata": {},
     "output_type": "execute_result"
    },
    {
     "data": {
      "image/png": "[encoded data removed]",
      "text/plain": [
       "<matplotlib.figure.Figure at 0x1fce4c009b0>"
      ]
     },
     "metadata": {},
     "output_type": "display_data"
    }
   ],
   "source": [
    "from sklearn.preprocessing import LabelEncoder, MinMaxScaler, StandardScaler\n",
    "\n",
    "data['target'] = np.log(data['price']+1)\n",
    "target_scaler = MinMaxScaler(feature_range=(-1, 1))\n",
    "data[\"target\"] = target_scaler.fit_transform(data.target.values.reshape(-1,1))\n",
    "\n",
    "plt.hist(data['target'], normed=False, bins=10)\n",
    "plt.ylabel('Number of Records')\n",
    "plt.xlabel('Target (Log-transformed and normalized Price)')"
   ]
  },
  {
   "cell_type": "markdown",
   "metadata": {},
   "source": [
    "- Handle missing data;\n",
    "- Cut number of brand names and number of categories;\n",
    "- Transfer category_name, brand_name, and item_condition_id to categorical data"
   ]
  },
  {
   "cell_type": "code",
   "execution_count": 5,
   "metadata": {},
   "outputs": [
    {
     "name": "stdout",
     "output_type": "stream",
     "text": [
      "Finished to handle missing\n",
      "Finished to cut\n",
      "Finished to convert categorical\n"
     ]
    }
   ],
   "source": [
    "NUM_BRANDS = 1000\n",
    "NUM_CATEGORIES = 500\n",
    "\n",
    "def handle_missing_inplace(dataset):\n",
    "    dataset['category_name'].fillna(value='missing', inplace=True)\n",
    "    dataset['brand_name'].fillna(value='missing', inplace=True)\n",
    "    dataset['item_description'].fillna(value='missing', inplace=True)\n",
    "\n",
    "def cutting(dataset):\n",
    "    pop_brand = dataset['brand_name'].value_counts().loc[lambda x: x.index != 'missing'].index[:NUM_BRANDS]\n",
    "    dataset.loc[~dataset['brand_name'].isin(pop_brand), 'brand_name'] = 'missing'\n",
    "    pop_category = dataset['category_name'].value_counts().loc[lambda x: x.index != 'missing'].index[:NUM_BRANDS]\n",
    "    dataset.loc[~dataset['category_name'].isin(pop_category), 'category_name'] = 'missing'\n",
    "\n",
    "\n",
    "def to_categorical(dataset):\n",
    "    dataset['category_name'] = dataset['category_name'].astype('category')\n",
    "    dataset['brand_name'] = dataset['brand_name'].astype('category')\n",
    "    dataset['item_condition_id'] = dataset['item_condition_id'].astype('category')\n",
    "\n",
    "handle_missing_inplace(data)\n",
    "print('Finished to handle missing')\n",
    "\n",
    "cutting(data)\n",
    "print('Finished to cut')\n",
    "\n",
    "to_categorical(data)\n",
    "print('Finished to convert categorical')"
   ]
  },
  {
   "cell_type": "markdown",
   "metadata": {},
   "source": [
    "Process categorical data"
   ]
  },
  {
   "cell_type": "code",
   "execution_count": 6,
   "metadata": {},
   "outputs": [],
   "source": [
    "le = LabelEncoder()\n",
    "le.fit(data.category_name)\n",
    "data.category_name = le.transform(data.category_name)\n",
    "le.fit(data.brand_name)\n",
    "data.brand_name = le.transform(data.brand_name)\n",
    "le.fit(data.item_condition_id)\n",
    "data.item_condition_id = le.transform(data.item_condition_id)\n",
    "del le"
   ]
  },
  {
   "cell_type": "code",
   "execution_count": 7,
   "metadata": {},
   "outputs": [
    {
     "data": {
      "text/html": [
       "<div>\n",
       "<style scoped>\n",
       "    .dataframe tbody tr th:only-of-type {\n",
       "        vertical-align: middle;\n",
       "    }\n",
       "\n",
       "    .dataframe tbody tr th {\n",
       "        vertical-align: top;\n",
       "    }\n",
       "\n",
       "    .dataframe thead th {\n",
       "        text-align: right;\n",
       "    }\n",
       "</style>\n",
       "<table border=\"1\" class=\"dataframe\">\n",
       "  <thead>\n",
       "    <tr style=\"text-align: right;\">\n",
       "      <th></th>\n",
       "      <th>train_id</th>\n",
       "      <th>name</th>\n",
       "      <th>item_condition_id</th>\n",
       "      <th>category_name</th>\n",
       "      <th>brand_name</th>\n",
       "      <th>price</th>\n",
       "      <th>shipping</th>\n",
       "      <th>item_description</th>\n",
       "      <th>target</th>\n",
       "    </tr>\n",
       "  </thead>\n",
       "  <tbody>\n",
       "    <tr>\n",
       "      <th>0</th>\n",
       "      <td>100000</td>\n",
       "      <td>3 piece crop top/halter set</td>\n",
       "      <td>2</td>\n",
       "      <td>941</td>\n",
       "      <td>314</td>\n",
       "      <td>19.0</td>\n",
       "      <td>0</td>\n",
       "      <td>All size small</td>\n",
       "      <td>-0.206939</td>\n",
       "    </tr>\n",
       "    <tr>\n",
       "      <th>1</th>\n",
       "      <td>100001</td>\n",
       "      <td>Fitbit Alta Bundle for Nathalia Lopez</td>\n",
       "      <td>0</td>\n",
       "      <td>655</td>\n",
       "      <td>330</td>\n",
       "      <td>12.0</td>\n",
       "      <td>0</td>\n",
       "      <td>Fitbit Alta replacement bands - 5 colors for N...</td>\n",
       "      <td>-0.320980</td>\n",
       "    </tr>\n",
       "    <tr>\n",
       "      <th>2</th>\n",
       "      <td>100002</td>\n",
       "      <td>iPad Gen 2 / Verizon</td>\n",
       "      <td>3</td>\n",
       "      <td>85</td>\n",
       "      <td>60</td>\n",
       "      <td>56.0</td>\n",
       "      <td>0</td>\n",
       "      <td>iPad Gen 2 with Verizon cell abilities. The wi...</td>\n",
       "      <td>0.070318</td>\n",
       "    </tr>\n",
       "  </tbody>\n",
       "</table>\n",
       "</div>"
      ],
      "text/plain": [
       "   train_id                                   name  item_condition_id  \\\n",
       "0    100000            3 piece crop top/halter set                  2   \n",
       "1    100001  Fitbit Alta Bundle for Nathalia Lopez                  0   \n",
       "2    100002                   iPad Gen 2 / Verizon                  3   \n",
       "\n",
       "   category_name  brand_name  price  shipping  \\\n",
       "0            941         314   19.0         0   \n",
       "1            655         330   12.0         0   \n",
       "2             85          60   56.0         0   \n",
       "\n",
       "                                    item_description    target  \n",
       "0                                     All size small -0.206939  \n",
       "1  Fitbit Alta replacement bands - 5 colors for N... -0.320980  \n",
       "2  iPad Gen 2 with Verizon cell abilities. The wi...  0.070318  "
      ]
     },
     "metadata": {},
     "output_type": "display_data"
    }
   ],
   "source": [
    "display(data.head(n=3))"
   ]
  },
  {
   "cell_type": "markdown",
   "metadata": {},
   "source": [
    "Process text"
   ]
  },
  {
   "cell_type": "code",
   "execution_count": 8,
   "metadata": {},
   "outputs": [
    {
     "name": "stderr",
     "output_type": "stream",
     "text": [
      "C:\\Users\\zhipe\\Anaconda3\\envs\\tensorflow\\lib\\site-packages\\h5py\\__init__.py:36: FutureWarning: Conversion of the second argument of issubdtype from `float` to `np.floating` is deprecated. In future, it will be treated as `np.float64 == np.dtype(float).type`.\n",
      "  from ._conv import register_converters as _register_converters\n",
      "Using TensorFlow backend.\n"
     ]
    },
    {
     "data": {
      "text/html": [
       "<div>\n",
       "<style scoped>\n",
       "    .dataframe tbody tr th:only-of-type {\n",
       "        vertical-align: middle;\n",
       "    }\n",
       "\n",
       "    .dataframe tbody tr th {\n",
       "        vertical-align: top;\n",
       "    }\n",
       "\n",
       "    .dataframe thead th {\n",
       "        text-align: right;\n",
       "    }\n",
       "</style>\n",
       "<table border=\"1\" class=\"dataframe\">\n",
       "  <thead>\n",
       "    <tr style=\"text-align: right;\">\n",
       "      <th></th>\n",
       "      <th>train_id</th>\n",
       "      <th>name</th>\n",
       "      <th>item_condition_id</th>\n",
       "      <th>category_name</th>\n",
       "      <th>brand_name</th>\n",
       "      <th>price</th>\n",
       "      <th>shipping</th>\n",
       "      <th>item_description</th>\n",
       "      <th>target</th>\n",
       "      <th>seq_item_description</th>\n",
       "      <th>seq_name</th>\n",
       "    </tr>\n",
       "  </thead>\n",
       "  <tbody>\n",
       "    <tr>\n",
       "      <th>0</th>\n",
       "      <td>100000</td>\n",
       "      <td>3 piece crop top/halter set</td>\n",
       "      <td>2</td>\n",
       "      <td>941</td>\n",
       "      <td>314</td>\n",
       "      <td>19.0</td>\n",
       "      <td>0</td>\n",
       "      <td>All size small</td>\n",
       "      <td>-0.206939</td>\n",
       "      <td>[34, 6, 44]</td>\n",
       "      <td>[32, 265, 491, 62, 1013, 74]</td>\n",
       "    </tr>\n",
       "    <tr>\n",
       "      <th>1</th>\n",
       "      <td>100001</td>\n",
       "      <td>Fitbit Alta Bundle for Nathalia Lopez</td>\n",
       "      <td>0</td>\n",
       "      <td>655</td>\n",
       "      <td>330</td>\n",
       "      <td>12.0</td>\n",
       "      <td>0</td>\n",
       "      <td>Fitbit Alta replacement bands - 5 colors for N...</td>\n",
       "      <td>-0.320980</td>\n",
       "      <td>[1476, 3787, 1668, 1851, 36, 172, 3, 23369, 8332]</td>\n",
       "      <td>[1476, 3787, 27, 3, 23369, 8332]</td>\n",
       "    </tr>\n",
       "  </tbody>\n",
       "</table>\n",
       "</div>"
      ],
      "text/plain": [
       "   train_id                                   name  item_condition_id  \\\n",
       "0    100000            3 piece crop top/halter set                  2   \n",
       "1    100001  Fitbit Alta Bundle for Nathalia Lopez                  0   \n",
       "\n",
       "   category_name  brand_name  price  shipping  \\\n",
       "0            941         314   19.0         0   \n",
       "1            655         330   12.0         0   \n",
       "\n",
       "                                    item_description    target  \\\n",
       "0                                     All size small -0.206939   \n",
       "1  Fitbit Alta replacement bands - 5 colors for N... -0.320980   \n",
       "\n",
       "                                seq_item_description  \\\n",
       "0                                        [34, 6, 44]   \n",
       "1  [1476, 3787, 1668, 1851, 36, 172, 3, 23369, 8332]   \n",
       "\n",
       "                           seq_name  \n",
       "0      [32, 265, 491, 62, 1013, 74]  \n",
       "1  [1476, 3787, 27, 3, 23369, 8332]  "
      ]
     },
     "metadata": {},
     "output_type": "display_data"
    }
   ],
   "source": [
    "from keras.preprocessing.text import Tokenizer\n",
    "raw_text = np.hstack([data.item_description.str.lower(), data.name.str.lower()])\n",
    "tok_raw = Tokenizer()\n",
    "tok_raw.fit_on_texts(raw_text)\n",
    "data[\"seq_item_description\"] = tok_raw.texts_to_sequences(data.item_description.str.lower())\n",
    "data[\"seq_name\"] = tok_raw.texts_to_sequences(data.name.str.lower())\n",
    "display(data.head(n=2))"
   ]
  },
  {
   "cell_type": "markdown",
   "metadata": {},
   "source": [
    "Show item_description_length"
   ]
  },
  {
   "cell_type": "code",
   "execution_count": 9,
   "metadata": {},
   "outputs": [
    {
     "name": "stdout",
     "output_type": "stream",
     "text": [
      "Maximun length of item description is   259\n",
      "Minimun length of item description is     0\n",
      "Maximum length of name is    11\n",
      "Minimum length of name is     0\n"
     ]
    },
    {
     "data": {
      "image/png": "[encoded data removed]",
      "text/plain": [
       "<matplotlib.figure.Figure at 0x1fceb27be48>"
      ]
     },
     "metadata": {},
     "output_type": "display_data"
    }
   ],
   "source": [
    "data['item_description_length'] = data.seq_item_description.str.len()\n",
    "plt.hist(data['item_description_length'], normed=False, bins=30)\n",
    "plt.ylabel('Number of Records');\n",
    "plt.xlabel('Item description length')\n",
    "\n",
    "print(\"Maximun length of item description is {0:5d}\".format(data.item_description_length.max()))\n",
    "print(\"Minimun length of item description is {0:5d}\".format(data.item_description_length.min()))\n",
    "\n",
    "data['name_length'] = data.seq_name.str.len()\n",
    "print(\"Maximum length of name is {0:5d}\".format(data.name_length.max()))\n",
    "print(\"Minimum length of name is {0:5d}\".format(data.name_length.min()))"
   ]
  },
  {
   "cell_type": "markdown",
   "metadata": {},
   "source": [
    "- EMBEDDINGS MAX VALUE\n",
    "- Base on the histograms, we select the next lengths"
   ]
  },
  {
   "cell_type": "code",
   "execution_count": 10,
   "metadata": {},
   "outputs": [],
   "source": [
    "MAX_NAME_SEQ = 10\n",
    "MAX_ITEM_DESC_SEQ = 75\n",
    "MAX_TEXT = np.max([np.max(data.seq_name.max())\n",
    "                  , np.max(data.seq_item_description.max())])+2\n",
    "MAX_CATEGORY = data.category_name.max()+1\n",
    "MAX_BRAND = data.brand_name.max()+1\n",
    "MAX_CONDITION = data.item_condition_id.max()+1"
   ]
  },
  {
   "cell_type": "markdown",
   "metadata": {},
   "source": [
    "Divid data"
   ]
  },
  {
   "cell_type": "code",
   "execution_count": 11,
   "metadata": {},
   "outputs": [
    {
     "name": "stdout",
     "output_type": "stream",
     "text": [
      "(89100, 13)\n",
      "(900, 13)\n"
     ]
    }
   ],
   "source": [
    "from sklearn.model_selection import train_test_split\n",
    "train, test= train_test_split(data, random_state=99, test_size=0.1)\n",
    "dtrain, dvalid = train_test_split(train, random_state=99, test_size=0.01)\n",
    "print(dtrain.shape)\n",
    "print(dvalid.shape)"
   ]
  },
  {
   "cell_type": "markdown",
   "metadata": {},
   "source": [
    "## Deep learning"
   ]
  },
  {
   "cell_type": "markdown",
   "metadata": {},
   "source": [
    "KERAS DATA DEFINITION"
   ]
  },
  {
   "cell_type": "code",
   "execution_count": 12,
   "metadata": {},
   "outputs": [],
   "source": [
    "\n",
    "from keras.preprocessing.sequence import pad_sequences\n",
    "\n",
    "def get_keras_data(dataset):\n",
    "    X = {\n",
    "        'name': pad_sequences(dataset.seq_name, maxlen=MAX_NAME_SEQ)\n",
    "        ,'item_desc': pad_sequences(dataset.seq_item_description, maxlen=MAX_ITEM_DESC_SEQ)\n",
    "        ,'brand_name': np.array(dataset.brand_name)\n",
    "        ,'category_name': np.array(dataset.category_name)\n",
    "        ,'item_condition': np.array(dataset.item_condition_id)\n",
    "        ,'num_vars': np.array(dataset[[\"shipping\"]])\n",
    "    }\n",
    "    return X\n",
    "\n",
    "X_train = get_keras_data(dtrain)\n",
    "X_valid = get_keras_data(dvalid)\n",
    "X_test = get_keras_data(test)"
   ]
  },
  {
   "cell_type": "markdown",
   "metadata": {},
   "source": [
    "-Define Keras model"
   ]
  },
  {
   "cell_type": "code",
   "execution_count": 13,
   "metadata": {},
   "outputs": [
    {
     "name": "stdout",
     "output_type": "stream",
     "text": [
      "__________________________________________________________________________________________________\n",
      "Layer (type)                    Output Shape         Param #     Connected to                     \n",
      "==================================================================================================\n",
      "brand_name (InputLayer)         (None, 1)            0                                            \n",
      "__________________________________________________________________________________________________\n",
      "category_name (InputLayer)      (None, 1)            0                                            \n",
      "__________________________________________________________________________________________________\n",
      "item_condition (InputLayer)     (None, 1)            0                                            \n",
      "__________________________________________________________________________________________________\n",
      "item_desc (InputLayer)          (None, 75)           0                                            \n",
      "__________________________________________________________________________________________________\n",
      "name (InputLayer)               (None, 10)           0                                            \n",
      "__________________________________________________________________________________________________\n",
      "embedding_3 (Embedding)         (None, 1, 10)        10010       brand_name[0][0]                 \n",
      "__________________________________________________________________________________________________\n",
      "embedding_4 (Embedding)         (None, 1, 10)        9730        category_name[0][0]              \n",
      "__________________________________________________________________________________________________\n",
      "embedding_5 (Embedding)         (None, 1, 5)         25          item_condition[0][0]             \n",
      "__________________________________________________________________________________________________\n",
      "embedding_2 (Embedding)         (None, 75, 50)       2993300     item_desc[0][0]                  \n",
      "__________________________________________________________________________________________________\n",
      "embedding_1 (Embedding)         (None, 10, 50)       2993300     name[0][0]                       \n",
      "__________________________________________________________________________________________________\n",
      "flatten_1 (Flatten)             (None, 10)           0           embedding_3[0][0]                \n",
      "__________________________________________________________________________________________________\n",
      "flatten_2 (Flatten)             (None, 10)           0           embedding_4[0][0]                \n",
      "__________________________________________________________________________________________________\n",
      "flatten_3 (Flatten)             (None, 5)            0           embedding_5[0][0]                \n",
      "__________________________________________________________________________________________________\n",
      "lstm_1 (LSTM)                   (None, 16)           4288        embedding_2[0][0]                \n",
      "__________________________________________________________________________________________________\n",
      "lstm_2 (LSTM)                   (None, 8)            1888        embedding_1[0][0]                \n",
      "__________________________________________________________________________________________________\n",
      "num_vars (InputLayer)           (None, 1)            0                                            \n",
      "__________________________________________________________________________________________________\n",
      "concatenate_1 (Concatenate)     (None, 50)           0           flatten_1[0][0]                  \n",
      "                                                                 flatten_2[0][0]                  \n",
      "                                                                 flatten_3[0][0]                  \n",
      "                                                                 lstm_1[0][0]                     \n",
      "                                                                 lstm_2[0][0]                     \n",
      "                                                                 num_vars[0][0]                   \n",
      "__________________________________________________________________________________________________\n",
      "dense_1 (Dense)                 (None, 128)          6528        concatenate_1[0][0]              \n",
      "__________________________________________________________________________________________________\n",
      "dropout_1 (Dropout)             (None, 128)          0           dense_1[0][0]                    \n",
      "__________________________________________________________________________________________________\n",
      "dense_2 (Dense)                 (None, 64)           8256        dropout_1[0][0]                  \n",
      "__________________________________________________________________________________________________\n",
      "dropout_2 (Dropout)             (None, 64)           0           dense_2[0][0]                    \n",
      "__________________________________________________________________________________________________\n",
      "dense_3 (Dense)                 (None, 1)            65          dropout_2[0][0]                  \n",
      "==================================================================================================\n",
      "Total params: 6,027,390\n",
      "Trainable params: 6,027,390\n",
      "Non-trainable params: 0\n",
      "__________________________________________________________________________________________________\n"
     ]
    }
   ],
   "source": [
    "from keras.layers import Input, Dropout, Dense, BatchNormalization, Activation, concatenate, GRU,LSTM, Embedding, Flatten, BatchNormalization\n",
    "from keras.models import Model\n",
    "from keras.callbacks import ModelCheckpoint, Callback, EarlyStopping\n",
    "from keras import backend as K\n",
    "\n",
    "def get_callbacks(filepath, patience=2):\n",
    "    es = EarlyStopping('val_loss', patience=patience, mode=\"min\")\n",
    "    msave = ModelCheckpoint(filepath, save_best_only=True)\n",
    "    return [es, msave]\n",
    "\n",
    "def rmsle_cust(y_true, y_pred):\n",
    "    first_log = K.log(K.clip(y_pred, K.epsilon(), None) + 1.)\n",
    "    second_log = K.log(K.clip(y_true, K.epsilon(), None) + 1.)\n",
    "    return K.sqrt(K.mean(K.square(first_log - second_log), axis=-1))\n",
    "\n",
    "def get_model():\n",
    "    #params\n",
    "    dr_r = 0.1\n",
    "    \n",
    "    #Inputs\n",
    "    name = Input(shape=[X_train[\"name\"].shape[1]], name=\"name\")\n",
    "    item_desc = Input(shape=[X_train[\"item_desc\"].shape[1]], name=\"item_desc\")\n",
    "    brand_name = Input(shape=[1], name=\"brand_name\")\n",
    "    category_name = Input(shape=[1], name=\"category_name\")\n",
    "    item_condition = Input(shape=[1], name=\"item_condition\")\n",
    "    num_vars = Input(shape=[X_train[\"num_vars\"].shape[1]], name=\"num_vars\")\n",
    "    \n",
    "    #Embeddings layers\n",
    "    emb_name = Embedding(MAX_TEXT, 50)(name)\n",
    "    emb_item_desc = Embedding(MAX_TEXT, 50)(item_desc)\n",
    "    emb_brand_name = Embedding(MAX_BRAND, 10)(brand_name)\n",
    "    emb_category_name = Embedding(MAX_CATEGORY, 10)(category_name)\n",
    "    emb_item_condition = Embedding(MAX_CONDITION, 5)(item_condition)\n",
    "    \n",
    "    #rnn layer\n",
    "    rnn_layer1 = LSTM(16) (emb_item_desc)\n",
    "    rnn_layer2 = LSTM(8) (emb_name)\n",
    "    \n",
    "    #main layer\n",
    "    main_l = concatenate([\n",
    "        Flatten() (emb_brand_name)\n",
    "        , Flatten() (emb_category_name)\n",
    "        , Flatten() (emb_item_condition)\n",
    "        , rnn_layer1\n",
    "        , rnn_layer2\n",
    "        , num_vars\n",
    "    ])\n",
    "    main_l = Dropout(dr_r) (Dense(128) (main_l))\n",
    "    main_l = Dropout(dr_r) (Dense(64) (main_l))\n",
    "    \n",
    "    #output\n",
    "    output = Dense(1, activation=\"linear\") (main_l)\n",
    "    \n",
    "    #model\n",
    "    model = Model([name, item_desc, brand_name\n",
    "                   , category_name, item_condition, num_vars], output)\n",
    "    model.compile(loss=\"mse\", optimizer=\"adam\", metrics=[\"mae\", rmsle_cust])\n",
    "    \n",
    "    return model\n",
    "\n",
    "    \n",
    "model = get_model()\n",
    "model.summary()"
   ]
  },
  {
   "cell_type": "markdown",
   "metadata": {},
   "source": [
    "FITTING THE MODEL"
   ]
  },
  {
   "cell_type": "code",
   "execution_count": 14,
   "metadata": {},
   "outputs": [
    {
     "name": "stdout",
     "output_type": "stream",
     "text": [
      "Train on 89100 samples, validate on 900 samples\n",
      "Epoch 1/5\n",
      "89100/89100 [==============================] - 10s 114us/step - loss: 0.0513 - mean_absolute_error: 0.1778 - rmsle_cust: 0.0203 - val_loss: 0.0302 - val_mean_absolute_error: 0.1397 - val_rmsle_cust: 0.0141\n",
      "Epoch 2/5\n",
      "89100/89100 [==============================] - 4s 46us/step - loss: 0.0320 - mean_absolute_error: 0.1367 - rmsle_cust: 0.0172 - val_loss: 0.0224 - val_mean_absolute_error: 0.1183 - val_rmsle_cust: 0.0135\n",
      "Epoch 3/5\n",
      "89100/89100 [==============================] - 4s 46us/step - loss: 0.0242 - mean_absolute_error: 0.1189 - rmsle_cust: 0.0163 - val_loss: 0.0188 - val_mean_absolute_error: 0.1051 - val_rmsle_cust: 0.0122\n",
      "Epoch 4/5\n",
      "89100/89100 [==============================] - 4s 46us/step - loss: 0.0201 - mean_absolute_error: 0.1083 - rmsle_cust: 0.0149 - val_loss: 0.0179 - val_mean_absolute_error: 0.1030 - val_rmsle_cust: 0.0122\n",
      "Epoch 5/5\n",
      "89100/89100 [==============================] - 4s 46us/step - loss: 0.0174 - mean_absolute_error: 0.1007 - rmsle_cust: 0.0141 - val_loss: 0.0177 - val_mean_absolute_error: 0.1019 - val_rmsle_cust: 0.0119\n"
     ]
    },
    {
     "data": {
      "text/plain": [
       "<keras.callbacks.History at 0x1fcec32fcc0>"
      ]
     },
     "execution_count": 14,
     "metadata": {},
     "output_type": "execute_result"
    }
   ],
   "source": [
    "BATCH_SIZE = 5000\n",
    "epochs = 5\n",
    "\n",
    "model.fit(X_train, dtrain.target, epochs=epochs, batch_size=BATCH_SIZE\n",
    "          , validation_data=(X_valid, dvalid.target)\n",
    "          , verbose=1)"
   ]
  },
  {
   "cell_type": "markdown",
   "metadata": {},
   "source": [
    "Evaluate the model using validation data"
   ]
  },
  {
   "cell_type": "code",
   "execution_count": 15,
   "metadata": {},
   "outputs": [
    {
     "name": "stdout",
     "output_type": "stream",
     "text": [
      " RMSLE error on test dataset: 0.5180078322984296\n"
     ]
    }
   ],
   "source": [
    "test_preds = model.predict(X_valid)\n",
    "test_preds = target_scaler.inverse_transform(test_preds)\n",
    "test_preds = np.exp(test_preds)+1\n",
    "y_true = np.array(dvalid.price.values)\n",
    "y_pred = test_preds[:,0]\n",
    "v_rmsle = rmsle(y_true, y_pred)\n",
    "print(\" RMSLE error on test dataset: \"+str(v_rmsle))"
   ]
  },
  {
   "cell_type": "markdown",
   "metadata": {},
   "source": [
    "Evaluate the model using test data."
   ]
  },
  {
   "cell_type": "code",
   "execution_count": 16,
   "metadata": {},
   "outputs": [
    {
     "name": "stdout",
     "output_type": "stream",
     "text": [
      " RMSLE error on test dataset: 0.5301127655274649\n"
     ]
    }
   ],
   "source": [
    "test_preds = model.predict(X_test)\n",
    "test_preds = target_scaler.inverse_transform(test_preds)\n",
    "test_preds = np.exp(test_preds)+1\n",
    "y_true = np.array(test.price.values)\n",
    "y_pred = test_preds[:,0]\n",
    "v_rmsle = rmsle(y_true, y_pred)\n",
    "print(\" RMSLE error on test dataset: \"+str(v_rmsle))"
   ]
  }
 ],
 "metadata": {
  "kernelspec": {
   "display_name": "Python 3",
   "language": "python",
   "name": "python3"
  },
  "language_info": {
   "codemirror_mode": {
    "name": "ipython",
    "version": 3
   },
   "file_extension": ".py",
   "mimetype": "text/x-python",
   "name": "python",
   "nbconvert_exporter": "python",
   "pygments_lexer": "ipython3",
   "version": "3.5.4"
  }
 },
 "nbformat": 4,
 "nbformat_minor": 2
}

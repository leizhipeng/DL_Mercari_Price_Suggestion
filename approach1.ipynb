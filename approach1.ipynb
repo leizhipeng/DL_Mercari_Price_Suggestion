{
 "cells": [
  {
   "cell_type": "markdown",
   "metadata": {},
   "source": [
    "This approach uses an advanced text mining method, Latent Dirichlet allocation (LDA)."
   ]
  },
  {
   "cell_type": "code",
   "execution_count": 7,
   "metadata": {},
   "outputs": [],
   "source": [
    "import numpy as np\n",
    "import pandas as pd\n",
    "import math\n",
    "import matplotlib.pyplot as plt\n",
    "%matplotlib inline "
   ]
  },
  {
   "cell_type": "markdown",
   "metadata": {},
   "source": [
    "Root Mean Squared Logarithmic Error (RMSLE) as the evaluation metrics"
   ]
  },
  {
   "cell_type": "code",
   "execution_count": 8,
   "metadata": {},
   "outputs": [],
   "source": [
    "def rmsle(y, y_pred):\n",
    "    \"\"\"\n",
    "    A function to calculate Root Mean Squared Logarithmic Error (RMSLE)\n",
    "    \"\"\"\n",
    "    assert len(y) == len(y_pred)\n",
    "    to_sum = [(math.log(y_pred[i] + 1) - math.log(y[i] + 1)) ** 2.0 for i,pred in enumerate(y_pred)]\n",
    "    return (sum(to_sum) * (1.0/len(y))) ** 0.5\n",
    "#Source: https://www.kaggle.com/marknagelberg/rmsle-function"
   ]
  },
  {
   "cell_type": "markdown",
   "metadata": {},
   "source": [
    "Load the dataset"
   ]
  },
  {
   "cell_type": "code",
   "execution_count": 9,
   "metadata": {},
   "outputs": [
    {
     "data": {
      "text/html": [
       "<div>\n",
       "<style scoped>\n",
       "    .dataframe tbody tr th:only-of-type {\n",
       "        vertical-align: middle;\n",
       "    }\n",
       "\n",
       "    .dataframe tbody tr th {\n",
       "        vertical-align: top;\n",
       "    }\n",
       "\n",
       "    .dataframe thead th {\n",
       "        text-align: right;\n",
       "    }\n",
       "</style>\n",
       "<table border=\"1\" class=\"dataframe\">\n",
       "  <thead>\n",
       "    <tr style=\"text-align: right;\">\n",
       "      <th></th>\n",
       "      <th>train_id</th>\n",
       "      <th>name</th>\n",
       "      <th>item_condition_id</th>\n",
       "      <th>category_name</th>\n",
       "      <th>brand_name</th>\n",
       "      <th>price</th>\n",
       "      <th>shipping</th>\n",
       "      <th>item_description</th>\n",
       "    </tr>\n",
       "  </thead>\n",
       "  <tbody>\n",
       "    <tr>\n",
       "      <th>0</th>\n",
       "      <td>0</td>\n",
       "      <td>MLB Cincinnati Reds T Shirt Size XL</td>\n",
       "      <td>3</td>\n",
       "      <td>Men/Tops/T-shirts</td>\n",
       "      <td>NaN</td>\n",
       "      <td>10.0</td>\n",
       "      <td>1</td>\n",
       "      <td>No description yet</td>\n",
       "    </tr>\n",
       "    <tr>\n",
       "      <th>1</th>\n",
       "      <td>1</td>\n",
       "      <td>Razer BlackWidow Chroma Keyboard</td>\n",
       "      <td>3</td>\n",
       "      <td>Electronics/Computers &amp; Tablets/Components &amp; P...</td>\n",
       "      <td>Razer</td>\n",
       "      <td>52.0</td>\n",
       "      <td>0</td>\n",
       "      <td>This keyboard is in great condition and works ...</td>\n",
       "    </tr>\n",
       "    <tr>\n",
       "      <th>2</th>\n",
       "      <td>2</td>\n",
       "      <td>AVA-VIV Blouse</td>\n",
       "      <td>1</td>\n",
       "      <td>Women/Tops &amp; Blouses/Blouse</td>\n",
       "      <td>Target</td>\n",
       "      <td>10.0</td>\n",
       "      <td>1</td>\n",
       "      <td>Adorable top with a hint of lace and a key hol...</td>\n",
       "    </tr>\n",
       "  </tbody>\n",
       "</table>\n",
       "</div>"
      ],
      "text/plain": [
       "   train_id                                 name  item_condition_id  \\\n",
       "0         0  MLB Cincinnati Reds T Shirt Size XL                  3   \n",
       "1         1     Razer BlackWidow Chroma Keyboard                  3   \n",
       "2         2                       AVA-VIV Blouse                  1   \n",
       "\n",
       "                                       category_name brand_name  price  \\\n",
       "0                                  Men/Tops/T-shirts        NaN   10.0   \n",
       "1  Electronics/Computers & Tablets/Components & P...      Razer   52.0   \n",
       "2                        Women/Tops & Blouses/Blouse     Target   10.0   \n",
       "\n",
       "   shipping                                   item_description  \n",
       "0         1                                 No description yet  \n",
       "1         0  This keyboard is in great condition and works ...  \n",
       "2         1  Adorable top with a hint of lace and a key hol...  "
      ]
     },
     "metadata": {},
     "output_type": "display_data"
    },
    {
     "name": "stdout",
     "output_type": "stream",
     "text": [
      "(100001, 8)\n"
     ]
    }
   ],
   "source": [
    "data = pd.read_table(\"train.tsv\")\n",
    "display(data.head(n=3))\n",
    "print(data.shape)"
   ]
  },
  {
   "cell_type": "markdown",
   "metadata": {},
   "source": [
    "## Data Preprocessing\n",
    "Show distribution of price"
   ]
  },
  {
   "cell_type": "code",
   "execution_count": 10,
   "metadata": {},
   "outputs": [
    {
     "data": {
      "text/plain": [
       "Text(0.5,0,'Price')"
      ]
     },
     "execution_count": 10,
     "metadata": {},
     "output_type": "execute_result"
    },
    {
     "data": {
      "image/png": "[encoded data removed]",
      "text/plain": [
       "<matplotlib.figure.Figure at 0x1d415bd91d0>"
      ]
     },
     "metadata": {},
     "output_type": "display_data"
    }
   ],
   "source": [
    "plt.hist(data['price'], normed=False, bins=10)\n",
    "plt.ylabel('Number of Records');\n",
    "plt.xlabel('Price')"
   ]
  },
  {
   "cell_type": "markdown",
   "metadata": {},
   "source": [
    "Log-transfer and normalize price"
   ]
  },
  {
   "cell_type": "code",
   "execution_count": 11,
   "metadata": {},
   "outputs": [
    {
     "data": {
      "text/plain": [
       "Text(0.5,0,'Target (Log-transformed and normalized Price)')"
      ]
     },
     "execution_count": 11,
     "metadata": {},
     "output_type": "execute_result"
    },
    {
     "data": {
      "image/png": "[encoded data removed]",
      "text/plain": [
       "<matplotlib.figure.Figure at 0x1d40e1dd8d0>"
      ]
     },
     "metadata": {},
     "output_type": "display_data"
    }
   ],
   "source": [
    "from sklearn.preprocessing import LabelEncoder, MinMaxScaler, StandardScaler\n",
    "\n",
    "data['target'] = np.log(data['price']+1)\n",
    "target_scaler = MinMaxScaler(feature_range=(-1, 1))\n",
    "data[\"target\"] = target_scaler.fit_transform(data.target.values.reshape(-1,1))\n",
    "\n",
    "plt.hist(data['target'], normed=False, bins=10)\n",
    "plt.ylabel('Number of Records')\n",
    "plt.xlabel('Target (Log-transformed and normalized Price)')"
   ]
  },
  {
   "cell_type": "code",
   "execution_count": 12,
   "metadata": {},
   "outputs": [
    {
     "name": "stdout",
     "output_type": "stream",
     "text": [
      "Number of different brand names is 2067.\n",
      "Number of different categories is 971.\n"
     ]
    }
   ],
   "source": [
    "print('Number of different brand names is {}.'.format(data['brand_name'].value_counts().size))\n",
    "print('Number of different categories is {}.'.format(data['category_name'].value_counts().size))"
   ]
  },
  {
   "cell_type": "markdown",
   "metadata": {},
   "source": [
    "- Handle missing data;\n",
    "- Cut number of brand names and number of categories;\n",
    "- Transfer category_name, brand_name, and item_condition_id to categorical data."
   ]
  },
  {
   "cell_type": "code",
   "execution_count": 13,
   "metadata": {},
   "outputs": [
    {
     "name": "stdout",
     "output_type": "stream",
     "text": [
      "Finished to handle missing\n",
      "Finished to cut\n",
      "Finished to convert categorical\n"
     ]
    }
   ],
   "source": [
    "NUM_BRANDS = 1000\n",
    "NUM_CATEGORIES = 1000\n",
    "\n",
    "def handle_missing_inplace(dataset):\n",
    "    dataset['category_name'].fillna(value='missing', inplace=True)\n",
    "    dataset['brand_name'].fillna(value='missing', inplace=True)\n",
    "    dataset['item_description'].fillna(value='missing', inplace=True)\n",
    "\n",
    "def cutting(dataset):\n",
    "    pop_brand = dataset['brand_name'].value_counts().loc[lambda x: x.index != 'missing'].index[:NUM_BRANDS]\n",
    "    dataset.loc[~dataset['brand_name'].isin(pop_brand), 'brand_name'] = 'missing'\n",
    "    pop_category = dataset['category_name'].value_counts().loc[lambda x: x.index != 'missing'].index[:NUM_CATEGORIES]\n",
    "    dataset.loc[~dataset['category_name'].isin(pop_category), 'category_name'] = 'missing'\n",
    "\n",
    "\n",
    "def to_categorical(dataset):\n",
    "    dataset['category_name'] = dataset['category_name'].astype('category')\n",
    "    dataset['brand_name'] = dataset['brand_name'].astype('category')\n",
    "    dataset['item_condition_id'] = dataset['item_condition_id'].astype('category')\n",
    "\n",
    "handle_missing_inplace(data)\n",
    "print('Finished to handle missing')\n",
    "\n",
    "cutting(data)\n",
    "print('Finished to cut')\n",
    "\n",
    "to_categorical(data)\n",
    "print('Finished to convert categorical')"
   ]
  },
  {
   "cell_type": "markdown",
   "metadata": {},
   "source": [
    "- Count vectorize category_name and  brand_name.\n",
    "- Transfer item_condition_id and shipping to dummy variables."
   ]
  },
  {
   "cell_type": "code",
   "execution_count": 14,
   "metadata": {},
   "outputs": [
    {
     "name": "stdout",
     "output_type": "stream",
     "text": [
      "Finished count vectorize `category_name`\n",
      "Finished label binarize `brand_name`\n",
      "Finished to get dummies on `item_condition_id` and `shipping`\n"
     ]
    }
   ],
   "source": [
    "from sklearn.feature_extraction.text import CountVectorizer\n",
    "from sklearn.preprocessing import LabelBinarizer\n",
    "\n",
    "cv = CountVectorizer()\n",
    "X_category = cv.fit_transform(data['category_name'])\n",
    "print('Finished count vectorize `category_name`')\n",
    "#%%\n",
    "lb = LabelBinarizer(sparse_output=True)\n",
    "X_brand = lb.fit_transform(data['brand_name'])\n",
    "print('Finished label binarize `brand_name`')\n",
    "#%%\n",
    "X_dummies = pd.get_dummies(data[['item_condition_id', 'shipping']],\n",
    "                                          sparse=True)\n",
    "print('Finished to get dummies on `item_condition_id` and `shipping`')"
   ]
  },
  {
   "cell_type": "markdown",
   "metadata": {},
   "source": [
    "## PROCESS TEXT: RAW"
   ]
  },
  {
   "cell_type": "code",
   "execution_count": 15,
   "metadata": {},
   "outputs": [],
   "source": [
    "import nltk\n",
    "#nltk.download('stopwords')\n",
    "from nltk.corpus import stopwords\n",
    "from nltk.stem.porter import PorterStemmer\n",
    "import re\n",
    "\n",
    "sw = set(stopwords.words('english')+\n",
    "         ['eing','oing','aing','uing','aed','eed',\n",
    "         'would','always', 'food', 'good','great', 'us', 'b','like',\n",
    "         'amp', 'go','place']) # stopwords\n",
    "\n",
    "def text_process(text,sw):\n",
    "    review_temp = text\n",
    "    review_temp = review_temp.strip() # remove \\n at the end.\n",
    "    review_temp = re.sub('[^a-zA-Z]', ' ', review_temp)\n",
    "    review_temp = review_temp.split()\n",
    "    ps = PorterStemmer()\n",
    "    review_temp = [ps.stem(word) for word in review_temp \n",
    "                   if not word in sw]\n",
    "    return review_temp   \n",
    "\n",
    "raw_text = np.hstack([data.item_description.str.lower(), data.name.str.lower()])\n",
    "corpus = [text_process(text,sw) for text in raw_text]"
   ]
  },
  {
   "cell_type": "markdown",
   "metadata": {},
   "source": [
    "Remove terms that appear less than 5 times."
   ]
  },
  {
   "cell_type": "code",
   "execution_count": 16,
   "metadata": {},
   "outputs": [],
   "source": [
    "from collections import defaultdict\n",
    "frequency = defaultdict(int)\n",
    "for text in corpus:\n",
    "    for token in text:\n",
    "        frequency[token] += 1\n",
    "corpus = [[token for token in text if frequency[token] > 5]\n",
    "         for text in corpus]"
   ]
  },
  {
   "cell_type": "markdown",
   "metadata": {},
   "source": [
    "- Generate dictionary and term-document matrix.\n",
    "- They are saved in the **approach1_output** folder."
   ]
  },
  {
   "cell_type": "code",
   "execution_count": 17,
   "metadata": {},
   "outputs": [
    {
     "name": "stderr",
     "output_type": "stream",
     "text": [
      "C:\\Users\\zhipe\\Anaconda3\\envs\\tensorflow\\lib\\site-packages\\gensim\\utils.py:1167: UserWarning: detected Windows; aliasing chunkize to chunkize_serial\n",
      "  warnings.warn(\"detected Windows; aliasing chunkize to chunkize_serial\")\n"
     ]
    }
   ],
   "source": [
    "from gensim import corpora\n",
    "dictionary = corpora.Dictionary(documents=corpus, prune_at=2000)\n",
    "dictionary.save('approach1_output/dictionary.dict')  # store the dictionary, for future reference\n",
    "corpusVector = [dictionary.doc2bow(text) for text in corpus]\n",
    "corpora.MmCorpus.serialize('approach1_output/corpusVector.mm', corpusVector)"
   ]
  },
  {
   "cell_type": "code",
   "execution_count": 18,
   "metadata": {},
   "outputs": [
    {
     "name": "stdout",
     "output_type": "stream",
     "text": [
      "[[(0, 1), (1, 1)], [(2, 1), (3, 1), (4, 1), (5, 1), (6, 1), (7, 1), (8, 1), (9, 1), (10, 1), (11, 1), (12, 2)], [(13, 1), (14, 1), (15, 1), (16, 1), (17, 1), (18, 1), (19, 1), (20, 1), (21, 1), (22, 1), (23, 1), (24, 2)]]\n",
      "Number of terms in dictionary is 2000\n"
     ]
    }
   ],
   "source": [
    "print(corpusVector[:3])\n",
    "print(\"Number of terms in dictionary is {}\".format(len(dictionary)))"
   ]
  },
  {
   "cell_type": "markdown",
   "metadata": {},
   "source": [
    "Apply LDA method to extract 100 topics from the texts. "
   ]
  },
  {
   "cell_type": "code",
   "execution_count": 19,
   "metadata": {},
   "outputs": [
    {
     "name": "stderr",
     "output_type": "stream",
     "text": [
      "C:\\Users\\zhipe\\Anaconda3\\envs\\tensorflow\\lib\\site-packages\\gensim\\models\\ldamodel.py:802: RuntimeWarning: divide by zero encountered in log\n",
      "  diff = np.log(self.expElogbeta)\n"
     ]
    }
   ],
   "source": [
    "from gensim import models\n",
    "lda = models.ldamodel.LdaModel(corpus=corpusVector, id2word=dictionary, \n",
    "                               num_topics=100, update_every=1, \n",
    "                               chunksize=2000, passes=1,\n",
    "                               minimum_probability=0.0001,random_state=666)"
   ]
  },
  {
   "cell_type": "markdown",
   "metadata": {},
   "source": [
    "Show the first 5 topics. "
   ]
  },
  {
   "cell_type": "code",
   "execution_count": 20,
   "metadata": {
    "scrolled": true
   },
   "outputs": [
    {
     "data": {
      "text/plain": [
       "[(7,\n",
       "  '0.326*\"face\" + 0.132*\"north\" + 0.098*\"wedg\" + 0.074*\"candi\" + 0.037*\"rue\" + 0.037*\"bronzer\" + 0.036*\"beig\" + 0.033*\"clay\" + 0.031*\"round\" + 0.029*\"shimmer\"'),\n",
       " (57,\n",
       "  '0.183*\"sexi\" + 0.099*\"big\" + 0.091*\"coutur\" + 0.089*\"juici\" + 0.079*\"lingeri\" + 0.076*\"sweet\" + 0.068*\"parti\" + 0.052*\"fox\" + 0.052*\"strip\" + 0.043*\"wed\"'),\n",
       " (20,\n",
       "  '0.468*\"bra\" + 0.073*\"push\" + 0.053*\"bow\" + 0.048*\"pad\" + 0.047*\"dot\" + 0.047*\"sequin\" + 0.040*\"strapless\" + 0.032*\"size\" + 0.031*\"clip\" + 0.027*\"inch\"'),\n",
       " (46,\n",
       "  '0.244*\"sleev\" + 0.243*\"long\" + 0.082*\"mous\" + 0.063*\"figur\" + 0.058*\"summer\" + 0.049*\"maroon\" + 0.036*\"trainer\" + 0.026*\"shower\" + 0.025*\"cold\" + 0.024*\"foam\"'),\n",
       " (32,\n",
       "  '0.321*\"slime\" + 0.104*\"coral\" + 0.081*\"buy\" + 0.080*\"state\" + 0.064*\"stamp\" + 0.041*\"singl\" + 0.039*\"sticki\" + 0.037*\"random\" + 0.034*\"defin\" + 0.032*\"leav\"')]"
      ]
     },
     "execution_count": 20,
     "metadata": {},
     "output_type": "execute_result"
    }
   ],
   "source": [
    "lda.print_topics(5)"
   ]
  },
  {
   "cell_type": "markdown",
   "metadata": {},
   "source": [
    "Save the lda model. "
   ]
  },
  {
   "cell_type": "code",
   "execution_count": 21,
   "metadata": {},
   "outputs": [],
   "source": [
    "lda.save('approach1_output/model.lda') # same for tfidf, lda, ...\n",
    "f = open('approach1_output/lda_topics.csv','w')\n",
    "topic_list = lda.print_topics(-1)\n",
    "for topic in topic_list:\n",
    "    f.write(str(topic[0])+',' + ','.join(topic[1].replace('*','+').split('+')) + '\\n')\n",
    "f.close()"
   ]
  },
  {
   "cell_type": "markdown",
   "metadata": {},
   "source": [
    "- Create a double wrapper over the original corpus: bow->tfidf->fold-in-lsi\n",
    "- The LDA scores for each text are the topic distributions in this text. \n",
    "- The LDA scores for item_description and name are generated."
   ]
  },
  {
   "cell_type": "code",
   "execution_count": 22,
   "metadata": {},
   "outputs": [
    {
     "name": "stdout",
     "output_type": "stream",
     "text": [
      "(200002, 100)\n"
     ]
    }
   ],
   "source": [
    "corpus_lda = lda[corpusVector]\n",
    "lda_scores = pd.DataFrame([[topic[1] for topic in doc] \n",
    "                                        if doc != [] else [0,0] \n",
    "                                        for doc in corpus_lda])\n",
    "print(lda_scores.shape)\n",
    "nproducts = data.shape[0]\n",
    "lda_item_description = lda_scores.iloc[:nproducts,]\n",
    "lda_name = lda_scores.iloc[nproducts:,]"
   ]
  },
  {
   "cell_type": "markdown",
   "metadata": {},
   "source": [
    "Handle nan values in lda_item_description and lda_name."
   ]
  },
  {
   "cell_type": "code",
   "execution_count": 23,
   "metadata": {},
   "outputs": [
    {
     "name": "stderr",
     "output_type": "stream",
     "text": [
      "C:\\Users\\zhipe\\Anaconda3\\envs\\tensorflow\\lib\\site-packages\\ipykernel_launcher.py:1: SettingWithCopyWarning: \n",
      "A value is trying to be set on a copy of a slice from a DataFrame.\n",
      "Try using .loc[row_indexer,col_indexer] = value instead\n",
      "\n",
      "See the caveats in the documentation: http://pandas.pydata.org/pandas-docs/stable/indexing.html#indexing-view-versus-copy\n",
      "  \"\"\"Entry point for launching an IPython kernel.\n",
      "C:\\Users\\zhipe\\Anaconda3\\envs\\tensorflow\\lib\\site-packages\\pandas\\core\\frame.py:2554: SettingWithCopyWarning: \n",
      "A value is trying to be set on a copy of a slice from a DataFrame\n",
      "\n",
      "See the caveats in the documentation: http://pandas.pydata.org/pandas-docs/stable/indexing.html#indexing-view-versus-copy\n",
      "  self._where(-key, value, inplace=True)\n",
      "C:\\Users\\zhipe\\Anaconda3\\envs\\tensorflow\\lib\\site-packages\\ipykernel_launcher.py:2: SettingWithCopyWarning: \n",
      "A value is trying to be set on a copy of a slice from a DataFrame.\n",
      "Try using .loc[row_indexer,col_indexer] = value instead\n",
      "\n",
      "See the caveats in the documentation: http://pandas.pydata.org/pandas-docs/stable/indexing.html#indexing-view-versus-copy\n",
      "  \n"
     ]
    }
   ],
   "source": [
    "lda_item_description[np.isnan(lda_item_description)] = 0\n",
    "lda_name[np.isnan(lda_name)] = 0"
   ]
  },
  {
   "cell_type": "markdown",
   "metadata": {},
   "source": [
    "Combine variables into x (input) and y (output)."
   ]
  },
  {
   "cell_type": "code",
   "execution_count": 54,
   "metadata": {},
   "outputs": [],
   "source": [
    "from scipy.sparse import csr_matrix, hstack\n",
    "x = hstack((X_category, X_brand,X_dummies,lda_item_description,lda_name)).tocsr()\n",
    "y = data[\"target\"]"
   ]
  },
  {
   "cell_type": "markdown",
   "metadata": {},
   "source": [
    "Splite data."
   ]
  },
  {
   "cell_type": "code",
   "execution_count": 55,
   "metadata": {},
   "outputs": [
    {
     "name": "stdout",
     "output_type": "stream",
     "text": [
      "(89100, 2068)\n",
      "(900, 2068)\n"
     ]
    }
   ],
   "source": [
    "from sklearn.model_selection import train_test_split\n",
    "\n",
    "X_train, X_test, y_train, y_test = train_test_split(x, y, test_size=0.1, \n",
    "                                                    random_state=99)\n",
    "\n",
    "X_dtrain, X_dvalid, y_dtrain, y_dvalid = train_test_split(X_train, y_train, test_size=0.01, \n",
    "                                                    random_state=99)\n",
    "print(X_dtrain.shape)\n",
    "print(X_dvalid.shape)"
   ]
  },
  {
   "cell_type": "markdown",
   "metadata": {},
   "source": [
    "# Deep Learning\n",
    "- KERAS DATA DEFINITION"
   ]
  },
  {
   "cell_type": "code",
   "execution_count": 66,
   "metadata": {},
   "outputs": [
    {
     "name": "stdout",
     "output_type": "stream",
     "text": [
      "_________________________________________________________________\n",
      "Layer (type)                 Output Shape              Param #   \n",
      "=================================================================\n",
      "dense_13 (Dense)             (None, 128)               264832    \n",
      "_________________________________________________________________\n",
      "dropout_9 (Dropout)          (None, 128)               0         \n",
      "_________________________________________________________________\n",
      "dense_14 (Dense)             (None, 64)                8256      \n",
      "_________________________________________________________________\n",
      "dropout_10 (Dropout)         (None, 64)                0         \n",
      "_________________________________________________________________\n",
      "dense_15 (Dense)             (None, 1)                 65        \n",
      "=================================================================\n",
      "Total params: 273,153\n",
      "Trainable params: 273,153\n",
      "Non-trainable params: 0\n",
      "_________________________________________________________________\n"
     ]
    }
   ],
   "source": [
    "import keras\n",
    "from keras.models import Sequential\n",
    "from keras.layers import Dense,Dropout\n",
    "from keras import backend as K\n",
    "\n",
    "def rmsle_cust(y_true, y_pred):\n",
    "    first_log = K.log(K.clip(y_pred, K.epsilon(), None) + 1.)\n",
    "    second_log = K.log(K.clip(y_true, K.epsilon(), None) + 1.)\n",
    "    return K.sqrt(K.mean(K.square(first_log - second_log), axis=-1))\n",
    "\n",
    "def get_model():\n",
    "    #params\n",
    "    dr_r = 0.1\n",
    "\n",
    "    model = Sequential()\n",
    "    model.add(Dense(units = 128, activation = 'relu', input_dim = X_dtrain.shape[1]))\n",
    "    model.add(Dropout(dr_r))\n",
    "    model.add(Dense(units = 64, activation = 'relu'))\n",
    "    model.add(Dropout(dr_r))\n",
    "    model.add(Dense(units = 1,  activation = 'linear'))        \n",
    "\n",
    "    model.compile(loss=\"mse\", optimizer=\"rmsprop\", metrics=[\"mae\", rmsle_cust])\n",
    "    \n",
    "    return model\n",
    "    \n",
    "model = get_model()\n",
    "model.summary()"
   ]
  },
  {
   "cell_type": "markdown",
   "metadata": {},
   "source": [
    "Fitting the model."
   ]
  },
  {
   "cell_type": "code",
   "execution_count": 70,
   "metadata": {},
   "outputs": [
    {
     "name": "stdout",
     "output_type": "stream",
     "text": [
      "Train on 89100 samples, validate on 900 samples\n",
      "Epoch 1/5\n",
      "89100/89100 [==============================] - 2s 26us/step - loss: 0.0200 - mean_absolute_error: 0.1065 - rmsle_cust: 0.0172 - val_loss: 0.0208 - val_mean_absolute_error: 0.1077 - val_rmsle_cust: 0.0153\n",
      "Epoch 2/5\n",
      "89100/89100 [==============================] - 2s 26us/step - loss: 0.0195 - mean_absolute_error: 0.1052 - rmsle_cust: 0.0171 - val_loss: 0.0203 - val_mean_absolute_error: 0.1062 - val_rmsle_cust: 0.0149\n",
      "Epoch 3/5\n",
      "89100/89100 [==============================] - 2s 27us/step - loss: 0.0193 - mean_absolute_error: 0.1045 - rmsle_cust: 0.0170 - val_loss: 0.0203 - val_mean_absolute_error: 0.1069 - val_rmsle_cust: 0.0149\n",
      "Epoch 4/5\n",
      "89100/89100 [==============================] - 2s 26us/step - loss: 0.0190 - mean_absolute_error: 0.1037 - rmsle_cust: 0.0169 - val_loss: 0.0201 - val_mean_absolute_error: 0.1058 - val_rmsle_cust: 0.0150\n",
      "Epoch 5/5\n",
      "89100/89100 [==============================] - 2s 26us/step - loss: 0.0188 - mean_absolute_error: 0.1030 - rmsle_cust: 0.0168 - val_loss: 0.0210 - val_mean_absolute_error: 0.1075 - val_rmsle_cust: 0.0154\n"
     ]
    }
   ],
   "source": [
    "BATCH_SIZE = 3000\n",
    "epochs = 5\n",
    "\n",
    "history = model.fit(X_dtrain, y_dtrain, epochs=epochs, batch_size=BATCH_SIZE\n",
    "          , validation_data=(X_dvalid, y_dvalid)\n",
    "          , verbose=1)"
   ]
  },
  {
   "cell_type": "code",
   "execution_count": 47,
   "metadata": {
    "scrolled": true
   },
   "outputs": [
    {
     "name": "stdout",
     "output_type": "stream",
     "text": [
      "dict_keys(['mean_absolute_error', 'val_rmsle_cust', 'val_loss', 'rmsle_cust', 'val_mean_absolute_error', 'loss'])\n"
     ]
    },
    {
     "data": {
      "image/png": "[encoded data removed]",
      "text/plain": [
       "<matplotlib.figure.Figure at 0x1d42b39ca20>"
      ]
     },
     "metadata": {},
     "output_type": "display_data"
    }
   ],
   "source": [
    "# list all data in history\n",
    "print(history.history.keys())\n",
    "# summarize history for error\n",
    "plt.plot(history.history['rmsle_cust'])\n",
    "plt.plot(history.history['val_rmsle_cust'])\n",
    "plt.title('model error')\n",
    "plt.ylabel('rmsle')\n",
    "plt.xlabel('epoch')\n",
    "plt.legend(['train', 'validation'], loc='upper left')\n",
    "#plt.show()\n",
    "plt.savefig('error plot.png', dpi=300, bbox_inches='tight')"
   ]
  },
  {
   "cell_type": "markdown",
   "metadata": {},
   "source": [
    "Evaluate the model using validation data."
   ]
  },
  {
   "cell_type": "code",
   "execution_count": 58,
   "metadata": {},
   "outputs": [
    {
     "name": "stdout",
     "output_type": "stream",
     "text": [
      "86156    0.104979\n",
      "29633   -0.298991\n",
      "67710    0.140874\n",
      "62348   -0.143059\n",
      "79452   -0.344647\n",
      "66334   -0.052803\n",
      "Name: target, dtype: float64\n"
     ]
    }
   ],
   "source": [
    "print(y_test[:6])"
   ]
  },
  {
   "cell_type": "code",
   "execution_count": 71,
   "metadata": {},
   "outputs": [
    {
     "name": "stdout",
     "output_type": "stream",
     "text": [
      " RMSLE error on validation dataset: 0.5297607735862457\n"
     ]
    }
   ],
   "source": [
    "y_pred = model.predict(X_dvalid)\n",
    "y_pred = target_scaler.inverse_transform(y_pred)\n",
    "y_pred = np.expm1(y_pred)\n",
    "y_true = target_scaler.inverse_transform(y_dvalid[:,np.newaxis])\n",
    "y_true = np.expm1(y_true)\n",
    "v_rmsle = rmsle(y_true, y_pred)\n",
    "print(\" RMSLE error on validation dataset: \"+str(v_rmsle))"
   ]
  },
  {
   "cell_type": "markdown",
   "metadata": {},
   "source": [
    "Evaluate the model using test data."
   ]
  },
  {
   "cell_type": "code",
   "execution_count": 72,
   "metadata": {},
   "outputs": [
    {
     "name": "stdout",
     "output_type": "stream",
     "text": [
      " RMSLE error on test dataset: 0.5439369433204613\n"
     ]
    }
   ],
   "source": [
    "y_pred = model.predict(X_test)\n",
    "y_pred = target_scaler.inverse_transform(y_pred)\n",
    "y_pred = np.expm1(y_pred)\n",
    "y_true = target_scaler.inverse_transform(y_test[:,np.newaxis])\n",
    "y_true = np.expm1(y_true)\n",
    "v_rmsle = rmsle(y_true, y_pred)\n",
    "print(\" RMSLE error on test dataset: \"+str(v_rmsle))"
   ]
  },
  {
   "cell_type": "markdown",
   "metadata": {},
   "source": [
    "Save model"
   ]
  },
  {
   "cell_type": "code",
   "execution_count": 61,
   "metadata": {},
   "outputs": [
    {
     "name": "stdout",
     "output_type": "stream",
     "text": [
      "Saved model to disk\n"
     ]
    }
   ],
   "source": [
    "from keras.models import model_from_yaml\n",
    "# serialize model to YAML\n",
    "model_yaml = model.to_yaml()\n",
    "with open(\"approach1_output/model.yaml\", \"w\") as yaml_file:\n",
    "    yaml_file.write(model_yaml)\n",
    "# serialize weights to HDF5\n",
    "model.save_weights(\"approach1_output/model.h5\")\n",
    "print(\"Saved model to disk\")"
   ]
  }
 ],
 "metadata": {
  "kernelspec": {
   "display_name": "Python 3",
   "language": "python",
   "name": "python3"
  },
  "language_info": {
   "codemirror_mode": {
    "name": "ipython",
    "version": 3
   },
   "file_extension": ".py",
   "mimetype": "text/x-python",
   "name": "python",
   "nbconvert_exporter": "python",
   "pygments_lexer": "ipython3",
   "version": "3.5.4"
  }
 },
 "nbformat": 4,
 "nbformat_minor": 2
}
